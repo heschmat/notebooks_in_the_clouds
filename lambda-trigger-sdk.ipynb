{
 "cells": [
  {
   "cell_type": "code",
   "execution_count": 1,
   "id": "dbcaadbe",
   "metadata": {},
   "outputs": [
    {
     "name": "stderr",
     "output_type": "stream",
     "text": [
      "/home/ec2-user/anaconda3/envs/python3/lib/python3.10/site-packages/sagemaker/base_serializers.py:28: UserWarning: A NumPy version >=1.23.5 and <2.3.0 is required for this version of SciPy (detected version 1.22.4)\n",
      "  import scipy.sparse\n"
     ]
    },
    {
     "name": "stdout",
     "output_type": "stream",
     "text": [
      "sagemaker.config INFO - Not applying SDK defaults from location: /etc/xdg/sagemaker/config.yaml\n",
      "sagemaker.config INFO - Not applying SDK defaults from location: /home/ec2-user/.config/sagemaker/config.yaml\n",
      "Role ARN: arn:aws:iam::166664655187:role/service-role/AmazonSageMaker-ExecutionRole-20240905T235898\n",
      "-=-=-=-=-=-=-=-=-=-=-=-=-=-=-=-=-=-=-=-=-=-=-=-=-=-=-=-=-=-=\n",
      "Role Name: AmazonSageMaker-ExecutionRole-20240905T235898\n",
      "-=-=-=-=-=-=-=-=-=-=-=-=-=-=-=-=-=-=-=-=-=-=-=-=-=-=-=-=-=-=\n",
      "Role Details: {'Role': {'Path': '/service-role/', 'RoleName': 'AmazonSageMaker-ExecutionRole-20240905T235898', 'RoleId': 'AROASNTP42FJ2S5F2RGRP', 'Arn': 'arn:aws:iam::166664655187:role/service-role/AmazonSageMaker-ExecutionRole-20240905T235898', 'CreateDate': datetime.datetime(2024, 9, 5, 21, 58, 9, tzinfo=tzlocal()), 'AssumeRolePolicyDocument': {'Version': '2012-10-17', 'Statement': [{'Effect': 'Allow', 'Principal': {'Service': 'sagemaker.amazonaws.com'}, 'Action': 'sts:AssumeRole'}]}, 'Description': 'SageMaker execution role created from the SageMaker AWS Management Console.', 'MaxSessionDuration': 3600, 'RoleLastUsed': {'LastUsedDate': datetime.datetime(2024, 9, 10, 8, 27, 12, tzinfo=tzlocal()), 'Region': 'us-east-1'}}, 'ResponseMetadata': {'RequestId': '7c22dad3-91ea-41f1-ab75-f86ea0593e42', 'HTTPStatusCode': 200, 'HTTPHeaders': {'date': 'Tue, 10 Sep 2024 08:43:58 GMT', 'x-amzn-requestid': '7c22dad3-91ea-41f1-ab75-f86ea0593e42', 'content-type': 'text/xml', 'content-length': '1131'}, 'RetryAttempts': 0}}\n",
      "-=-=-=-=-=-=-=-=-=-=-=-=-=-=-=-=-=-=-=-=-=-=-=-=-=-=-=-=-=-=\n",
      "Attached Policies:\n",
      "Policy Name: AmazonSageMaker-ExecutionPolicy-20240905T235898, Policy ARN: arn:aws:iam::166664655187:policy/service-role/AmazonSageMaker-ExecutionPolicy-20240905T235898\n",
      "------------------------------------------------------------\n",
      "Policy Name: AmazonSageMakerFullAccess, Policy ARN: arn:aws:iam::aws:policy/AmazonSageMakerFullAccess\n",
      "------------------------------------------------------------\n",
      "Policy Name: AWSLambda_FullAccess, Policy ARN: arn:aws:iam::aws:policy/AWSLambda_FullAccess\n",
      "------------------------------------------------------------\n"
     ]
    }
   ],
   "source": [
    "import boto3\n",
    "from sagemaker import get_execution_role\n",
    "\n",
    "# Get the execution role ARN\n",
    "role_arn = get_execution_role()\n",
    "print(f'Role ARN: {role_arn}')\n",
    "print('-=' * 30)\n",
    "# Extract the role name from the ARN\n",
    "role_name = role_arn.split('/')[-1]\n",
    "print(f'Role Name: {role_name}')\n",
    "print('-=' * 30)\n",
    "# Create an IAM client\n",
    "iam_client = boto3.client('iam')\n",
    "\n",
    "# Get the role details\n",
    "role_details = iam_client.get_role(RoleName=role_name)\n",
    "print(\"Role Details:\", role_details)\n",
    "print('-=' * 30)\n",
    "# List the policies attached to the role\n",
    "attached_policies = iam_client.list_attached_role_policies(RoleName=role_name)\n",
    "\n",
    "# Print the policies attached to the role\n",
    "print(\"Attached Policies:\")\n",
    "for policy in attached_policies['AttachedPolicies']:\n",
    "    print(f\"Policy Name: {policy['PolicyName']}, Policy ARN: {policy['PolicyArn']}\")\n",
    "    print('--' * 30)\n"
   ]
  },
  {
   "cell_type": "code",
   "execution_count": 2,
   "id": "dfb626dd",
   "metadata": {},
   "outputs": [
    {
     "name": "stdout",
     "output_type": "stream",
     "text": [
      "{'ResponseMetadata': {'RequestId': 'c326018f-3341-43a3-97bc-ceacc7629164', 'HTTPStatusCode': 200, 'HTTPHeaders': {'date': 'Tue, 10 Sep 2024 08:43:59 GMT', 'content-type': 'application/json', 'content-length': '119', 'connection': 'keep-alive', 'x-amzn-requestid': 'c326018f-3341-43a3-97bc-ceacc7629164', 'x-amzn-remapped-content-length': '0', 'x-amz-executed-version': '$LATEST', 'x-amzn-trace-id': 'root=1-66e006ce-7ec0ef2356061f593ad9582b;parent=61960b522fac5723;sampled=0;lineage=1:b5cc4331:0'}, 'RetryAttempts': 0}, 'StatusCode': 200, 'ExecutedVersion': '$LATEST', 'Payload': <botocore.response.StreamingBody object at 0x7f099a567130>}\n",
      "{\"statusCode\": 200, \"body\": \"{\\\"msg\\\": \\\"helloooooooooooooo\\\", \\\"date\\\": \\\"Tuesday, September 10, 2024 at 08:43 AM\\\"}\"}\n"
     ]
    }
   ],
   "source": [
    "import json\n",
    "import boto3\n",
    "\n",
    "client = boto3.client('lambda', region_name='us-east-1')  # Replace with your region\n",
    "function_name = 'lambda-trigger-v1'\n",
    "\n",
    "payload = {'key': 'value'}\n",
    "\n",
    "payload_bytes = json.dumps(payload).encode('utf-8')\n",
    "\n",
    "try:\n",
    "    response = client.invoke(\n",
    "        FunctionName=function_name,\n",
    "        InvocationType='RequestResponse',  # or 'Event', 'RequestResponse' for sync\n",
    "        Payload=payload_bytes\n",
    "    )\n",
    "    print(response)\n",
    "\n",
    "    # Optional: Print the response payload for synchronous invocations\n",
    "    if 'Payload' in response:\n",
    "        response_payload = response['Payload'].read().decode('utf-8')\n",
    "        print(response_payload)\n",
    "except client.exceptions.ResourceNotFoundException:\n",
    "    print(f\"Lambda function {function_name} not found.\")\n",
    "except Exception as e:\n",
    "    print(f\"An error occurred: {str(e)}\")\n"
   ]
  },
  {
   "cell_type": "code",
   "execution_count": 3,
   "id": "f86ea799",
   "metadata": {},
   "outputs": [],
   "source": [
    "# Lambda Function: lambda-trigger-v1\n",
    "\"\"\"\n",
    "\n",
    "import json\n",
    "import random\n",
    "from datetime import datetime\n",
    "\n",
    "quotes = [\n",
    "    'bonojour!',\n",
    "    'aloha',\n",
    "    'kia ora',\n",
    "    'helloooooooooooooo'\n",
    "]\n",
    "def lambda_handler(event, context):\n",
    "    q = random.choice(quotes)\n",
    "    dt = datetime.now().strftime(\"%A, %B %d, %Y at %I:%M %p\")\n",
    "    \n",
    "    res = {'msg': q, 'date': dt}\n",
    "    \n",
    "    return {\n",
    "        'statusCode': 200,\n",
    "        'body': json.dumps(res)\n",
    "    }\n",
    "\n",
    "\n",
    "\"\"\";"
   ]
  },
  {
   "cell_type": "code",
   "execution_count": null,
   "id": "8e39cdbb",
   "metadata": {},
   "outputs": [],
   "source": []
  }
 ],
 "metadata": {
  "kernelspec": {
   "display_name": "conda_python3",
   "language": "python",
   "name": "conda_python3"
  },
  "language_info": {
   "codemirror_mode": {
    "name": "ipython",
    "version": 3
   },
   "file_extension": ".py",
   "mimetype": "text/x-python",
   "name": "python",
   "nbconvert_exporter": "python",
   "pygments_lexer": "ipython3",
   "version": "3.10.14"
  }
 },
 "nbformat": 4,
 "nbformat_minor": 5
}
